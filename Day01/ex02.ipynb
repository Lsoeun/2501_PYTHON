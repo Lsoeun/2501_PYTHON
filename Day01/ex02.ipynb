{
 "cells": [
  {
   "cell_type": "code",
   "execution_count": 1,
   "metadata": {},
   "outputs": [
    {
     "name": "stdout",
     "output_type": "stream",
     "text": [
      "2003729188416\n",
      "[1, 2, 3]\n"
     ]
    }
   ],
   "source": [
    "# 메모리 주소 확인하기\n",
    "a = [1, 2, 3]\n",
    "\n",
    "print(id(a))\n",
    "\n",
    "# 변수 a에 들어 있는 값 확인하기\n",
    "print(a)"
   ]
  },
  {
   "cell_type": "code",
   "execution_count": 4,
   "metadata": {},
   "outputs": [
    {
     "name": "stdout",
     "output_type": "stream",
     "text": [
      "1\n",
      "python\n",
      "[1, 2, 3]\n"
     ]
    }
   ],
   "source": [
    "# 변수에 값 대입하고 출력하기\n",
    "a = 1\n",
    "b = \"python\"\n",
    "c = [1, 2, 3]\n",
    "\n",
    "print(a)\n",
    "print(b)\n",
    "print(c)"
   ]
  },
  {
   "cell_type": "code",
   "execution_count": 5,
   "metadata": {},
   "outputs": [
    {
     "name": "stdout",
     "output_type": "stream",
     "text": [
      "python\n",
      "python\n"
     ]
    }
   ],
   "source": [
    "# 여러 개의 변수에 값은 값 대입하기\n",
    "a = b = 'python'\n",
    "print(a)\n",
    "print(b)"
   ]
  },
  {
   "cell_type": "code",
   "execution_count": 6,
   "metadata": {},
   "outputs": [
    {
     "name": "stdout",
     "output_type": "stream",
     "text": [
      "5\n",
      "3\n"
     ]
    }
   ],
   "source": [
    "# 변수에 들어 있는 값 바꾸기\n",
    "a = 3\n",
    "b = 5\n",
    "a, b = b, a\n",
    "\n",
    "print(a)\n",
    "print(b)"
   ]
  },
  {
   "cell_type": "code",
   "execution_count": null,
   "metadata": {},
   "outputs": [
    {
     "name": "stdout",
     "output_type": "stream",
     "text": [
      "3\n"
     ]
    }
   ],
   "source": [
    "# 좋아하는 숫자를 저장하는 변수\n",
    "\n",
    "num = 3  # num 변수에 3을 저장\n",
    "\n",
    "# 좋아하는 숫자 출력\n",
    "print(num)"
   ]
  },
  {
   "cell_type": "code",
   "execution_count": 8,
   "metadata": {},
   "outputs": [
    {
     "name": "stdout",
     "output_type": "stream",
     "text": [
      "Alice\n",
      "25\n",
      "서울 특별시\n",
      "False\n",
      "168.5\n"
     ]
    }
   ],
   "source": [
    "# 개인정보 출력하기\n",
    "\n",
    "name = \"Alice\"\n",
    "age = 25\n",
    "address = \"서울 특별시\"\n",
    "married = False\n",
    "height = 168.5\n",
    "\n",
    "print(name)\n",
    "print(age)\n",
    "print(address)\n",
    "print(married)\n",
    "print(height)"
   ]
  }
 ],
 "metadata": {
  "kernelspec": {
   "display_name": "Python 3",
   "language": "python",
   "name": "python3"
  },
  "language_info": {
   "codemirror_mode": {
    "name": "ipython",
    "version": 3
   },
   "file_extension": ".py",
   "mimetype": "text/x-python",
   "name": "python",
   "nbconvert_exporter": "python",
   "pygments_lexer": "ipython3",
   "version": "3.13.0"
  }
 },
 "nbformat": 4,
 "nbformat_minor": 2
}
