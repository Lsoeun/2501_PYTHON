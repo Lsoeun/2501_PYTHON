{
 "cells": [
  {
   "cell_type": "code",
   "execution_count": 5,
   "metadata": {},
   "outputs": [
    {
     "data": {
      "text/plain": [
       "120"
      ]
     },
     "execution_count": 5,
     "metadata": {},
     "output_type": "execute_result"
    }
   ],
   "source": [
    "# 팩토리얼(Factorial) 구하기\n",
    "# 팩토리얼? - 어떤 숫자 이하의 양의 정수를 모두 곱한 값\n",
    "# 1부터 주어진 정수까지 모든 양의 정수를 곱한 값\n",
    "# n!=n*(n−1)*(n−2)*⋯*1로 정의\n",
    "# 5의 팩토리얼 : 5! = 5 * 4 * 3 * 2 * 1\n",
    "\n",
    "def factorial(n):\n",
    "  the_product = 1   # 팩토리얼의 결과를 저장할 변수 the_product를 1로 설정\n",
    "  while n > 0:   # n이 0보다 큰 동안 반복 (n이 0이 되면 반복 종료)\n",
    "    the_product *= n   # 현재 값 n을 the_product에 곱해서 누적\n",
    "    n = n - 1   # n 값을 1 감소시켜 다음 단계로 이동\n",
    "  return the_product   # 최종적으로 계산된 팩토리얼 값을 반환\n",
    "\n",
    "factorial(5)"
   ]
  },
  {
   "cell_type": "code",
   "execution_count": null,
   "metadata": {},
   "outputs": [],
   "source": [
    "# 재귀 알고리즘을 사용한 팩토리얼 계산 함수\n",
    "def factorial(n):\n",
    "    # 종료 조건 : n이 0이면 1을 반환하고 종료\n",
    "    if n == 0:\n",
    "        return 1\n",
    "    return n * factorial(n - 1)\n",
    "    # 재귀 호출 : n * factorial(n-1)\n",
    "    # 현재 n 값에 (n-1)의 팩토리얼 값을 곱하여 반환"
   ]
  },
  {
   "cell_type": "code",
   "execution_count": 9,
   "metadata": {},
   "outputs": [
    {
     "data": {
      "text/plain": [
       "8"
      ]
     },
     "execution_count": 9,
     "metadata": {},
     "output_type": "execute_result"
    }
   ],
   "source": [
    "# 재귀 알고리즘을 사용한 피보나치 수열\n",
    "# 피보나치 수열? -  각 항이 그 앞의 두 항의 합인 수열\n",
    "# 처음 두 항을 0과 1로 한 후, 그 다음 항부터 바로 앞 두 수의 합을 다음 항으로 하는 수열\n",
    "# 0, 1, (0+1), (1+1), (1 + 2), (2 + 3), (3 + 5), (5 + 8), …\n",
    "# 피보나치 수열의 i번째 값을 계산하는 재귀함수\n",
    "\n",
    "def fibo(n):\n",
    "  if n < 2 :     \n",
    "    return n\n",
    "  else:\n",
    "\t  return fibo(n-1) + fibo(n-2)\n",
    " \n",
    "fibo(6)"
   ]
  },
  {
   "cell_type": "code",
   "execution_count": 15,
   "metadata": {},
   "outputs": [
    {
     "data": {
      "text/plain": [
       "3"
      ]
     },
     "execution_count": 15,
     "metadata": {},
     "output_type": "execute_result"
    }
   ],
   "source": [
    "# 재귀 알고리즘 사용하지 않고 피보나치 수열 구하기\n",
    "def fibo(n):\n",
    "    if n < 2:\n",
    "        return n\n",
    "\n",
    "    a, b = 0, 1  # 피보나치 수열의 첫 번째와 두 번째 값\n",
    "    for i in range(2, n + 1):  # 두 번째부터 n번째까지 계산\n",
    "        a, b = b, a + b  # 이전 두 값을 더해서 새로운 값을 계산\n",
    "\n",
    "    return b  # n번째 피보나치 수\n",
    "\n",
    "fibo(4)"
   ]
  },
  {
   "cell_type": "code",
   "execution_count": 22,
   "metadata": {},
   "outputs": [
    {
     "name": "stdout",
     "output_type": "stream",
     "text": [
      "[1, 2, [3, 4]]\n",
      "[1, 2, [3, 4]]\n",
      "[1, 2, [10, 4]]\n",
      "[1, 2, [10, 4]]\n",
      "[20, 2, [10, 4]]\n",
      "[1, 2, [10, 4]]\n"
     ]
    }
   ],
   "source": [
    "# 얕은 복사\n",
    "list1 = [1, 2, [3, 4]]  # 원본 리스트: 첫 번째, 두 번째 요소는 숫자, 세 번째 요소는 내부 리스트 [3, 4]\n",
    "list2 = list1[:]  # 슬라이싱을 이용한 얕은 복사. list1의 최상위 값들은 복사되지만, 내부 리스트는 참조만 복사됨\n",
    "\n",
    "print(list1)\n",
    "print(list2)  \n",
    "\n",
    "# list2의 내부 리스트 수정: list2[2]는 list1[2]와 동일한 객체를 참조\n",
    "# list2에서 내부 리스트를 수정하면 list1에도 영향을 미침\n",
    "list2[2][0] = 10  # list2[2]의 첫 번째 요소를 10으로 변경. list1[2]도 같은 객체를 참조하므로 영향받음\n",
    "\n",
    "print(list1)  # list1의 [3, 4]가 [10, 4]로 변경\n",
    "print(list2)  # list2 역시 변경된 값을 반영\n",
    "\n",
    "# list1의 첫 번째 요소 수정: list1[0]을 20으로 변경. list2와는 독립적이므로 list2에 영향을 미치지 않음\n",
    "list1[0] = 20 \n",
    "\n",
    "print(list1)  # list1의 첫 번째 요소가 20으로 변경\n",
    "print(list2)  # list2는 영향을 받지 않음"
   ]
  },
  {
   "cell_type": "code",
   "execution_count": 24,
   "metadata": {},
   "outputs": [
    {
     "name": "stdout",
     "output_type": "stream",
     "text": [
      "[1, 2, [3, 4]]\n",
      "[1, 2, [20, 4]]\n",
      "[10, 2, [3, 4]]\n",
      "[1, 2, [20, 4]]\n"
     ]
    }
   ],
   "source": [
    "# 깊은 복사\n",
    "import copy  # deepcopy를 사용하기 위해 copy 모듈을 임포트\n",
    "\n",
    "list1 = [1, 2, [3, 4]]  # 원본 리스트\n",
    "\n",
    "# deepcopy를 사용하여 깊은 복사를 수행. list1의 모든 요소를 새로 복사하고, 내부 리스트까지도 새로 복사\n",
    "list3 = copy.deepcopy(list1)\n",
    "\n",
    "# 깊은 복사로 인해 list3에서 내부 리스트의 요소를 수정해도 list1에는 영향을 미치지 않음\n",
    "list3[2][0] = 20  # list3의 내부 리스트의 첫 번째 요소를 20으로 변경\n",
    "\n",
    "print(list1)  # list1은 변경되지 않음. 깊은 복사로 인해 list3의 내부 리스트가 수정되어도 list1은 그대로 유지지\n",
    "print(list3)  # list3의 내부 리스트가 수정됨. 깊은 복사로 인해 list1과 list3은 서로 독립적\n",
    "\n",
    "# list1의 첫 번째 요소를 10으로 변경\n",
    "list1[0] = 10 \n",
    "\n",
    "print(list1)  # list1의 첫 번째 요소만 변경됨\n",
    "print(list3)  # list3은 여전히 원래의 값을 유지"
   ]
  }
 ],
 "metadata": {
  "kernelspec": {
   "display_name": "Python 3",
   "language": "python",
   "name": "python3"
  },
  "language_info": {
   "codemirror_mode": {
    "name": "ipython",
    "version": 3
   },
   "file_extension": ".py",
   "mimetype": "text/x-python",
   "name": "python",
   "nbconvert_exporter": "python",
   "pygments_lexer": "ipython3",
   "version": "3.13.0"
  }
 },
 "nbformat": 4,
 "nbformat_minor": 2
}
